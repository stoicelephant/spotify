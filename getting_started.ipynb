{
 "cells": [
  {
   "cell_type": "code",
   "execution_count": null,
   "id": "9f78292c",
   "metadata": {},
   "outputs": [],
   "source": [
    "# one method for getting token\n",
    "import requests\n",
    "\n",
    "auth_url = 'https://accounts.spotify.com/api/token'\n",
    "\n",
    "\n",
    "headers = {\n",
    "    \"Content-Type\": \"application/x-www-form-urlencoded\"\n",
    "}\n",
    "\n",
    "\n",
    "data = {\n",
    "    'grant_type':'client_credentials',\n",
    "    'client_id':'26af341e509a46c38ae343c5a1f07fc4',\n",
    "    'client_secret':'a5fdcec67f8f4ba7929fdf24e8534b58'\n",
    "}\n",
    "\n",
    "auth_response = requests.post(auth_url,data=data,headers=headers)\n"
   ]
  },
  {
   "cell_type": "code",
   "execution_count": null,
   "id": "22e5aa98",
   "metadata": {},
   "outputs": [
    {
     "name": "stdout",
     "output_type": "stream",
     "text": [
      "MjZhZjM0MWU1MDlhNDZjMzhhZTM0M2M1YTFmMDdmYzQ6YTVmZGNlYzY3ZjhmNGJhNzkyOWZkZjI0ZTg1MzRiNTg=\n"
     ]
    }
   ],
   "source": [
    "#method 2 \n",
    "import base64 \n",
    "\n",
    "auth_url = 'https://accounts.spotify.com/api/token'\n",
    "\n",
    "client_id = '26af341e509a46c38ae343c5a1f07fc4'\n",
    "client_secret = 'a5fdcec67f8f4ba7929fdf24e8534b58'\n",
    "\n",
    "client_creds = f'{client_id}:{client_secret}'\n",
    "client_creds_b64 = base64.b64encode(client_creds.encode()).decode()\n",
    "\n",
    "\n",
    "headers = {\n",
    "    'Authorization': f'Basic {client_creds_b64}',\n",
    "    'Content_Type':'application/x-www-form-urlencoded'\n",
    "}\n",
    "\n",
    "data = {\n",
    "    'grant_type':'client_credentials'\n",
    "}\n",
    "\n",
    "response = requests.post(auth_url,headers=headers,data=data)\n"
   ]
  },
  {
   "cell_type": "code",
   "execution_count": 30,
   "id": "31008c59",
   "metadata": {},
   "outputs": [],
   "source": [
    "response_json = response.json()\n",
    "access_token = response_json['access_token']\n",
    "expiration_tracker = response_json['expires_in']"
   ]
  },
  {
   "cell_type": "code",
   "execution_count": null,
   "id": "016c9258",
   "metadata": {},
   "outputs": [],
   "source": [
    "#Now we are able to request information accessing this clients data \n",
    "\n",
    "artist_url = 'https://open.spotify.com/artist/3PtKFI3Py8YVd7JhwjMeoN?si=Kg8vVnH2Td6HcNYBZR-X2Q'\n",
    "artist_id = artist_url[32:]\n",
    "\n",
    "request_url = f\"https://api.spotify.com/v1/artists/{artist_id}\"\n",
    "\n",
    "headers = {\n",
    "    'Authorization':f'Bearer {access_token}' \n",
    "}\n",
    "\n",
    "meth_wax = requests.get(request_url,headers=headers)"
   ]
  },
  {
   "cell_type": "code",
   "execution_count": 41,
   "id": "8f5dc468",
   "metadata": {},
   "outputs": [
    {
     "data": {
      "text/plain": [
       "{'external_urls': {'spotify': 'https://open.spotify.com/artist/3PtKFI3Py8YVd7JhwjMeoN'},\n",
       " 'followers': {'href': None, 'total': 78922},\n",
       " 'genres': ['riot grrrl', 'garage rock', 'egg punk'],\n",
       " 'href': 'https://api.spotify.com/v1/artists/3PtKFI3Py8YVd7JhwjMeoN',\n",
       " 'id': '3PtKFI3Py8YVd7JhwjMeoN',\n",
       " 'images': [{'url': 'https://i.scdn.co/image/ab67616d0000b273899a86520d071d3e8ff53700',\n",
       "   'height': 640,\n",
       "   'width': 640},\n",
       "  {'url': 'https://i.scdn.co/image/ab67616d00001e02899a86520d071d3e8ff53700',\n",
       "   'height': 300,\n",
       "   'width': 300},\n",
       "  {'url': 'https://i.scdn.co/image/ab67616d00004851899a86520d071d3e8ff53700',\n",
       "   'height': 64,\n",
       "   'width': 64}],\n",
       " 'name': 'Meth Wax',\n",
       " 'popularity': 42,\n",
       " 'type': 'artist',\n",
       " 'uri': 'spotify:artist:3PtKFI3Py8YVd7JhwjMeoN'}"
      ]
     },
     "execution_count": 41,
     "metadata": {},
     "output_type": "execute_result"
    }
   ],
   "source": [
    "meth_wax_json = meth_wax.json()\n",
    "meth_wax_json"
   ]
  },
  {
   "cell_type": "code",
   "execution_count": 26,
   "id": "8d876f02",
   "metadata": {},
   "outputs": [
    {
     "data": {
      "text/plain": [
       "{'access_token': 'BQArgfGmC1awJdkwHM77HFc45fJCad1h7IuaNG-Qwu35zVELXUkkfgPqYl2LZkkA1xge0a4IBVokGQwPHJQmoejcxFssNHzfAzpB_ayJJIso-RA-SNPv--Fds97yPlsDoKsJfvmbw5Y',\n",
       " 'token_type': 'Bearer',\n",
       " 'expires_in': 3600}"
      ]
     },
     "execution_count": 26,
     "metadata": {},
     "output_type": "execute_result"
    }
   ],
   "source": [
    "response_json = response.json()\n",
    "response_json"
   ]
  },
  {
   "cell_type": "code",
   "execution_count": 23,
   "id": "63d49998",
   "metadata": {},
   "outputs": [
    {
     "name": "stdout",
     "output_type": "stream",
     "text": [
      "Original: abc123:xyz789\n",
      "Encoded to bytes: b'abc123:xyz789'\n",
      "Base64 encoded (bytes): b'YWJjMTIzOnh5ejc4OQ=='\n",
      "Base64 encoded (string): YWJjMTIzOnh5ejc4OQ==\n",
      "Decoded back: abc123:xyz789\n"
     ]
    }
   ],
   "source": [
    "import base64\n",
    "\n",
    "client_creds = \"abc123:xyz789\"\n",
    "\n",
    "print(\"Original:\", client_creds)\n",
    "print(\"Encoded to bytes:\", client_creds.encode())\n",
    "\n",
    "# Convert to Base64\n",
    "encoded_b64 = base64.b64encode(client_creds.encode())\n",
    "print(\"Base64 encoded (bytes):\", encoded_b64)\n",
    "print(\"Base64 encoded (string):\", encoded_b64.decode())\n",
    "\n",
    "# Now decode BACK from Base64\n",
    "decoded = base64.b64decode(encoded_b64).decode()\n",
    "print(\"Decoded back:\", decoded)"
   ]
  },
  {
   "cell_type": "code",
   "execution_count": null,
   "id": "91b6266a",
   "metadata": {},
   "outputs": [],
   "source": []
  }
 ],
 "metadata": {
  "kernelspec": {
   "display_name": "Python 3",
   "language": "python",
   "name": "python3"
  },
  "language_info": {
   "codemirror_mode": {
    "name": "ipython",
    "version": 3
   },
   "file_extension": ".py",
   "mimetype": "text/x-python",
   "name": "python",
   "nbconvert_exporter": "python",
   "pygments_lexer": "ipython3",
   "version": "3.10.9"
  }
 },
 "nbformat": 4,
 "nbformat_minor": 5
}
